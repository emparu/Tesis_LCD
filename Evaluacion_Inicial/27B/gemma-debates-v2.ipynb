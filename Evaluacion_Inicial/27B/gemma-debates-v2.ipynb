{
 "cells": [
  {
   "cell_type": "markdown",
   "id": "5fc7b0af",
   "metadata": {
    "id": "8cs1yid_Dhr1",
    "papermill": {
     "duration": 0.005898,
     "end_time": "2024-09-01T03:28:06.143915",
     "exception": false,
     "start_time": "2024-09-01T03:28:06.138017",
     "status": "completed"
    },
    "tags": []
   },
   "source": [
    "### Instalar y desinstalar cosas"
   ]
  },
  {
   "cell_type": "code",
   "execution_count": 1,
   "id": "2cefb17b",
   "metadata": {
    "execution": {
     "iopub.execute_input": "2024-09-01T03:28:06.154056Z",
     "iopub.status.busy": "2024-09-01T03:28:06.153732Z",
     "iopub.status.idle": "2024-09-01T03:28:22.080731Z",
     "shell.execute_reply": "2024-09-01T03:28:22.079925Z"
    },
    "papermill": {
     "duration": 15.934552,
     "end_time": "2024-09-01T03:28:22.082916",
     "exception": false,
     "start_time": "2024-09-01T03:28:06.148364",
     "status": "completed"
    },
    "tags": []
   },
   "outputs": [
    {
     "name": "stdout",
     "output_type": "stream",
     "text": [
      "Found existing installation: tensorflow 2.16.1\r\n"
     ]
    },
    {
     "name": "stdout",
     "output_type": "stream",
     "text": [
      "Uninstalling tensorflow-2.16.1:\r\n"
     ]
    },
    {
     "name": "stdout",
     "output_type": "stream",
     "text": [
      "  Successfully uninstalled tensorflow-2.16.1\r\n"
     ]
    },
    {
     "name": "stdout",
     "output_type": "stream",
     "text": [
      "\u001b[33mWARNING: Running pip as the 'root' user can result in broken permissions and conflicting behaviour with the system package manager. It is recommended to use a virtual environment instead: https://pip.pypa.io/warnings/venv\u001b[0m\u001b[33m\r\n",
      "\u001b[0m"
     ]
    }
   ],
   "source": [
    "!pip uninstall tensorflow -y"
   ]
  },
  {
   "cell_type": "code",
   "execution_count": 2,
   "id": "414462a9",
   "metadata": {
    "execution": {
     "iopub.execute_input": "2024-09-01T03:28:22.093338Z",
     "iopub.status.busy": "2024-09-01T03:28:22.093084Z",
     "iopub.status.idle": "2024-09-01T03:29:08.125656Z",
     "shell.execute_reply": "2024-09-01T03:29:08.124603Z"
    },
    "id": "cbKk7lGzWiET",
    "papermill": {
     "duration": 46.040658,
     "end_time": "2024-09-01T03:29:08.128131",
     "exception": false,
     "start_time": "2024-09-01T03:28:22.087473",
     "status": "completed"
    },
    "tags": []
   },
   "outputs": [
    {
     "name": "stdout",
     "output_type": "stream",
     "text": [
      "\u001b[33mWARNING: Running pip as the 'root' user can result in broken permissions and conflicting behaviour with the system package manager. It is recommended to use a virtual environment instead: https://pip.pypa.io/warnings/venv\u001b[0m\u001b[33m\r\n",
      "\u001b[0m"
     ]
    },
    {
     "name": "stdout",
     "output_type": "stream",
     "text": [
      "\r\n",
      "\u001b[1m[\u001b[0m\u001b[34;49mnotice\u001b[0m\u001b[1;39;49m]\u001b[0m\u001b[39;49m A new release of pip is available: \u001b[0m\u001b[31;49m23.0.1\u001b[0m\u001b[39;49m -> \u001b[0m\u001b[32;49m24.2\u001b[0m\r\n",
      "\u001b[1m[\u001b[0m\u001b[34;49mnotice\u001b[0m\u001b[1;39;49m]\u001b[0m\u001b[39;49m To update, run: \u001b[0m\u001b[32;49mpip install --upgrade pip\u001b[0m\r\n"
     ]
    }
   ],
   "source": [
    "!pip install -q -U keras-nlp"
   ]
  },
  {
   "cell_type": "code",
   "execution_count": 3,
   "id": "c330f8c2",
   "metadata": {
    "execution": {
     "iopub.execute_input": "2024-09-01T03:29:08.140131Z",
     "iopub.status.busy": "2024-09-01T03:29:08.139506Z",
     "iopub.status.idle": "2024-09-01T03:29:13.994335Z",
     "shell.execute_reply": "2024-09-01T03:29:13.993126Z"
    },
    "id": "gIiY3YKJRsCL",
    "papermill": {
     "duration": 5.863317,
     "end_time": "2024-09-01T03:29:13.996632",
     "exception": false,
     "start_time": "2024-09-01T03:29:08.133315",
     "status": "completed"
    },
    "tags": []
   },
   "outputs": [
    {
     "name": "stdout",
     "output_type": "stream",
     "text": [
      "\u001b[33mWARNING: Running pip as the 'root' user can result in broken permissions and conflicting behaviour with the system package manager. It is recommended to use a virtual environment instead: https://pip.pypa.io/warnings/venv\u001b[0m\u001b[33m\r\n",
      "\u001b[0m\r\n",
      "\u001b[1m[\u001b[0m\u001b[34;49mnotice\u001b[0m\u001b[1;39;49m]\u001b[0m\u001b[39;49m A new release of pip is available: \u001b[0m\u001b[31;49m23.0.1\u001b[0m\u001b[39;49m -> \u001b[0m\u001b[32;49m24.2\u001b[0m\r\n",
      "\u001b[1m[\u001b[0m\u001b[34;49mnotice\u001b[0m\u001b[1;39;49m]\u001b[0m\u001b[39;49m To update, run: \u001b[0m\u001b[32;49mpip install --upgrade pip\u001b[0m\r\n"
     ]
    }
   ],
   "source": [
    "!pip install -q keras==3.3.3"
   ]
  },
  {
   "cell_type": "markdown",
   "id": "2aaef0db",
   "metadata": {
    "id": "kWgYYZflEjJs",
    "papermill": {
     "duration": 0.005056,
     "end_time": "2024-09-01T03:29:14.006816",
     "exception": false,
     "start_time": "2024-09-01T03:29:14.001760",
     "status": "completed"
    },
    "tags": []
   },
   "source": [
    "### Set up Keras JAX backend"
   ]
  },
  {
   "cell_type": "code",
   "execution_count": 4,
   "id": "fa5fdc3b",
   "metadata": {
    "execution": {
     "iopub.execute_input": "2024-09-01T03:29:14.018564Z",
     "iopub.status.busy": "2024-09-01T03:29:14.018213Z",
     "iopub.status.idle": "2024-09-01T03:29:21.959329Z",
     "shell.execute_reply": "2024-09-01T03:29:21.958456Z"
    },
    "id": "WtH7QlcOXG6C",
    "outputId": "464946df-1bc9-49f6-c507-b4d41335357d",
    "papermill": {
     "duration": 7.949469,
     "end_time": "2024-09-01T03:29:21.961178",
     "exception": false,
     "start_time": "2024-09-01T03:29:14.011709",
     "status": "completed"
    },
    "tags": []
   },
   "outputs": [
    {
     "name": "stderr",
     "output_type": "stream",
     "text": [
      "WARNING: Logging before InitGoogle() is written to STDERR\n",
      "E0000 00:00:1725161358.209165      76 common_lib.cc:798] Could not set metric server port: INVALID_ARGUMENT: Could not find SliceBuilder port 8471 in any of the 0 ports provided in `tpu_process_addresses`=\"local\"\n",
      "=== Source Location Trace: === \n",
      "learning/45eac/tfrc/runtime/common_lib.cc:479\n",
      "E0901 03:29:18.244502283     179 oauth2_credentials.cc:238]            oauth_fetch: UNKNOWN:C-ares status is not ARES_SUCCESS qtype=A name=metadata.google.internal. is_balancer=0: Domain name not found {created_time:\"2024-09-01T03:29:18.244485567+00:00\", grpc_status:2}\n"
     ]
    },
    {
     "data": {
      "text/plain": [
       "[TpuDevice(id=0, process_index=0, coords=(0,0,0), core_on_chip=0),\n",
       " TpuDevice(id=1, process_index=0, coords=(0,0,0), core_on_chip=1),\n",
       " TpuDevice(id=2, process_index=0, coords=(1,0,0), core_on_chip=0),\n",
       " TpuDevice(id=3, process_index=0, coords=(1,0,0), core_on_chip=1),\n",
       " TpuDevice(id=4, process_index=0, coords=(0,1,0), core_on_chip=0),\n",
       " TpuDevice(id=5, process_index=0, coords=(0,1,0), core_on_chip=1),\n",
       " TpuDevice(id=6, process_index=0, coords=(1,1,0), core_on_chip=0),\n",
       " TpuDevice(id=7, process_index=0, coords=(1,1,0), core_on_chip=1)]"
      ]
     },
     "execution_count": 4,
     "metadata": {},
     "output_type": "execute_result"
    }
   ],
   "source": [
    "import jax\n",
    "\n",
    "jax.devices()"
   ]
  },
  {
   "cell_type": "code",
   "execution_count": 5,
   "id": "a916085d",
   "metadata": {
    "execution": {
     "iopub.execute_input": "2024-09-01T03:29:21.973140Z",
     "iopub.status.busy": "2024-09-01T03:29:21.972479Z",
     "iopub.status.idle": "2024-09-01T03:29:32.264612Z",
     "shell.execute_reply": "2024-09-01T03:29:32.263668Z"
    },
    "id": "lDiDLM3EXJem",
    "papermill": {
     "duration": 10.300272,
     "end_time": "2024-09-01T03:29:32.266818",
     "exception": false,
     "start_time": "2024-09-01T03:29:21.966546",
     "status": "completed"
    },
    "tags": []
   },
   "outputs": [
    {
     "name": "stderr",
     "output_type": "stream",
     "text": [
      "2024-09-01 03:29:29.659424: E external/local_xla/xla/stream_executor/cuda/cuda_fft.cc:479] Unable to register cuFFT factory: Attempting to register factory for plugin cuFFT when one has already been registered\n",
      "2024-09-01 03:29:29.688002: E external/local_xla/xla/stream_executor/cuda/cuda_dnn.cc:10575] Unable to register cuDNN factory: Attempting to register factory for plugin cuDNN when one has already been registered\n",
      "2024-09-01 03:29:29.688063: E external/local_xla/xla/stream_executor/cuda/cuda_blas.cc:1442] Unable to register cuBLAS factory: Attempting to register factory for plugin cuBLAS when one has already been registered\n"
     ]
    },
    {
     "name": "stderr",
     "output_type": "stream",
     "text": [
      "/usr/local/lib/python3.10/site-packages/tqdm/auto.py:21: TqdmWarning: IProgress not found. Please update jupyter and ipywidgets. See https://ipywidgets.readthedocs.io/en/stable/user_install.html\n",
      "  from .autonotebook import tqdm as notebook_tqdm\n"
     ]
    }
   ],
   "source": [
    "import os\n",
    "\n",
    "# The Keras 3 distribution API is only implemented for the JAX backend for now\n",
    "os.environ[\"KERAS_BACKEND\"] = \"jax\"\n",
    "# Pre-allocate 90% of TPU memory to minimize memory fragmentation and allocation\n",
    "# overhead\n",
    "os.environ[\"XLA_PYTHON_CLIENT_MEM_FRACTION\"] = \"1.0\"\n",
    "\n",
    "import keras\n",
    "import keras_nlp"
   ]
  },
  {
   "cell_type": "code",
   "execution_count": 6,
   "id": "d8a6b65f",
   "metadata": {
    "execution": {
     "iopub.execute_input": "2024-09-01T03:29:32.277703Z",
     "iopub.status.busy": "2024-09-01T03:29:32.277273Z",
     "iopub.status.idle": "2024-09-01T03:29:32.280893Z",
     "shell.execute_reply": "2024-09-01T03:29:32.280214Z"
    },
    "id": "alq-qBnec0Gb",
    "papermill": {
     "duration": 0.011078,
     "end_time": "2024-09-01T03:29:32.282455",
     "exception": false,
     "start_time": "2024-09-01T03:29:32.271377",
     "status": "completed"
    },
    "tags": []
   },
   "outputs": [],
   "source": [
    "keras.config.set_floatx(\"bfloat16\")"
   ]
  },
  {
   "cell_type": "markdown",
   "id": "3f8b6ca7",
   "metadata": {
    "id": "LIKvQM2jYhCp",
    "papermill": {
     "duration": 0.004239,
     "end_time": "2024-09-01T03:29:32.291400",
     "exception": false,
     "start_time": "2024-09-01T03:29:32.287161",
     "status": "completed"
    },
    "tags": []
   },
   "source": [
    "## Load model"
   ]
  },
  {
   "cell_type": "markdown",
   "id": "6d5ed7c3",
   "metadata": {
    "id": "yRs8exKlExW5",
    "papermill": {
     "duration": 0.004215,
     "end_time": "2024-09-01T03:29:32.300292",
     "exception": false,
     "start_time": "2024-09-01T03:29:32.296077",
     "status": "completed"
    },
    "tags": []
   },
   "source": [
    "To load the model with the weights and tensors distributed across TPUs, first create a new `DeviceMesh`. `DeviceMesh` represents a collection of hardware devices configured for distributed computation and was introduced in Keras 3 as part of the unified distribution API.\n",
    "\n",
    "The distribution API enables data and model parallelism, allowing for efficient scaling of deep learning models on multiple accelerators and hosts. It leverages the underlying framework (e.g. JAX) to distribute the program and tensors according to the sharding directives through a procedure called single program, multiple data (SPMD) expansion. Check out more details in the new [Keras 3 distribution API guide](https://keras.io/guides/distribution/)."
   ]
  },
  {
   "cell_type": "code",
   "execution_count": 7,
   "id": "fb86a8c8",
   "metadata": {
    "execution": {
     "iopub.execute_input": "2024-09-01T03:29:32.310421Z",
     "iopub.status.busy": "2024-09-01T03:29:32.310193Z",
     "iopub.status.idle": "2024-09-01T03:29:32.314020Z",
     "shell.execute_reply": "2024-09-01T03:29:32.313312Z"
    },
    "id": "HO_4KnoEXO_Y",
    "papermill": {
     "duration": 0.010904,
     "end_time": "2024-09-01T03:29:32.315810",
     "exception": false,
     "start_time": "2024-09-01T03:29:32.304906",
     "status": "completed"
    },
    "tags": []
   },
   "outputs": [],
   "source": [
    "# Create a device mesh with (1, 8) shape so that the weights are sharded across\n",
    "# all 8 TPUs.\n",
    "device_mesh = keras.distribution.DeviceMesh(\n",
    "    (1, 8),\n",
    "    [\"batch\", \"model\"],\n",
    "    devices=keras.distribution.list_devices())"
   ]
  },
  {
   "cell_type": "markdown",
   "id": "62cf1a8c",
   "metadata": {
    "id": "wKz4Z8iaFFow",
    "papermill": {
     "duration": 0.00486,
     "end_time": "2024-09-01T03:29:32.325170",
     "exception": false,
     "start_time": "2024-09-01T03:29:32.320310",
     "status": "completed"
    },
    "tags": []
   },
   "source": [
    "`LayoutMap` from the distribution API specifies how the weights and tensors should be sharded or replicated."
   ]
  },
  {
   "cell_type": "code",
   "execution_count": 8,
   "id": "f3c1e9ef",
   "metadata": {
    "execution": {
     "iopub.execute_input": "2024-09-01T03:29:32.335264Z",
     "iopub.status.busy": "2024-09-01T03:29:32.334831Z",
     "iopub.status.idle": "2024-09-01T03:29:32.338049Z",
     "shell.execute_reply": "2024-09-01T03:29:32.337435Z"
    },
    "id": "Duk_XeqdXTIG",
    "papermill": {
     "duration": 0.010133,
     "end_time": "2024-09-01T03:29:32.339572",
     "exception": false,
     "start_time": "2024-09-01T03:29:32.329439",
     "status": "completed"
    },
    "tags": []
   },
   "outputs": [],
   "source": [
    "layout_map = keras_nlp.models.GemmaBackbone.get_layout_map(device_mesh)"
   ]
  },
  {
   "cell_type": "markdown",
   "id": "59ce36fd",
   "metadata": {
    "id": "KI58t0WvFS-4",
    "papermill": {
     "duration": 0.004305,
     "end_time": "2024-09-01T03:29:32.348458",
     "exception": false,
     "start_time": "2024-09-01T03:29:32.344153",
     "status": "completed"
    },
    "tags": []
   },
   "source": [
    "`ModelParallel` allows you to shard model weights or activation tensors across all devcies on the `DeviceMesh`. In this case, some of the Gemma 2 27B model weights are sharded across 8 TPU cores according to the `layout_map` defined above."
   ]
  },
  {
   "cell_type": "code",
   "execution_count": 9,
   "id": "55511222",
   "metadata": {
    "execution": {
     "iopub.execute_input": "2024-09-01T03:29:32.358433Z",
     "iopub.status.busy": "2024-09-01T03:29:32.358213Z",
     "iopub.status.idle": "2024-09-01T03:29:32.361520Z",
     "shell.execute_reply": "2024-09-01T03:29:32.360901Z"
    },
    "id": "LSuY8ZGKXZ0q",
    "papermill": {
     "duration": 0.01025,
     "end_time": "2024-09-01T03:29:32.363104",
     "exception": false,
     "start_time": "2024-09-01T03:29:32.352854",
     "status": "completed"
    },
    "tags": []
   },
   "outputs": [],
   "source": [
    "model_parallel = keras.distribution.ModelParallel(\n",
    "    device_mesh, layout_map, batch_dim_name=\"batch\")\n",
    "\n",
    "keras.distribution.set_distribution(model_parallel)"
   ]
  },
  {
   "cell_type": "markdown",
   "id": "f83ba1e0",
   "metadata": {
    "id": "zVvD9EeFFeRz",
    "papermill": {
     "duration": 0.004229,
     "end_time": "2024-09-01T03:29:32.371852",
     "exception": false,
     "start_time": "2024-09-01T03:29:32.367623",
     "status": "completed"
    },
    "tags": []
   },
   "source": [
    "\n",
    "\n",
    "Now load the Gemma 2 27B model in the distributed way."
   ]
  },
  {
   "cell_type": "code",
   "execution_count": 10,
   "id": "f27d42c6",
   "metadata": {
    "execution": {
     "iopub.execute_input": "2024-09-01T03:29:32.381866Z",
     "iopub.status.busy": "2024-09-01T03:29:32.381630Z",
     "iopub.status.idle": "2024-09-01T03:35:55.761860Z",
     "shell.execute_reply": "2024-09-01T03:35:55.761053Z"
    },
    "id": "K4Gm8Ef8ZM9r",
    "outputId": "01db1b70-d9be-4e7b-f810-f8435e50ab2b",
    "papermill": {
     "duration": 383.387164,
     "end_time": "2024-09-01T03:35:55.763641",
     "exception": false,
     "start_time": "2024-09-01T03:29:32.376477",
     "status": "completed"
    },
    "tags": []
   },
   "outputs": [
    {
     "name": "stderr",
     "output_type": "stream",
     "text": [
      "normalizer.cc(51) LOG(INFO) precompiled_charsmap is empty. use identity normalization.\n"
     ]
    },
    {
     "data": {
      "text/html": [
       "<pre style=\"white-space:pre;overflow-x:auto;line-height:normal;font-family:Menlo,'DejaVu Sans Mono',consolas,'Courier New',monospace\"><span style=\"font-weight: bold\">Preprocessor: \"gemma_causal_lm_preprocessor\"</span>\n",
       "</pre>\n"
      ],
      "text/plain": [
       "\u001b[1mPreprocessor: \"gemma_causal_lm_preprocessor\"\u001b[0m\n"
      ]
     },
     "metadata": {},
     "output_type": "display_data"
    },
    {
     "data": {
      "text/html": [
       "<pre style=\"white-space:pre;overflow-x:auto;line-height:normal;font-family:Menlo,'DejaVu Sans Mono',consolas,'Courier New',monospace\">┏━━━━━━━━━━━━━━━━━━━━━━━━━━━━━━━━━━━━━━━━━━━━━━━━━━━━┳━━━━━━━━━━━━━━━━━━━━━━━━━━━━━━━━━━━━━━━━━━━━━━━━━━━━━┓\n",
       "┃<span style=\"font-weight: bold\"> Tokenizer (type)                                   </span>┃<span style=\"font-weight: bold\">                                             Vocab # </span>┃\n",
       "┡━━━━━━━━━━━━━━━━━━━━━━━━━━━━━━━━━━━━━━━━━━━━━━━━━━━━╇━━━━━━━━━━━━━━━━━━━━━━━━━━━━━━━━━━━━━━━━━━━━━━━━━━━━━┩\n",
       "│ gemma_tokenizer (<span style=\"color: #0087ff; text-decoration-color: #0087ff\">GemmaTokenizer</span>)                   │                                             <span style=\"color: #00af00; text-decoration-color: #00af00\">256,000</span> │\n",
       "└────────────────────────────────────────────────────┴─────────────────────────────────────────────────────┘\n",
       "</pre>\n"
      ],
      "text/plain": [
       "┏━━━━━━━━━━━━━━━━━━━━━━━━━━━━━━━━━━━━━━━━━━━━━━━━━━━━┳━━━━━━━━━━━━━━━━━━━━━━━━━━━━━━━━━━━━━━━━━━━━━━━━━━━━━┓\n",
       "┃\u001b[1m \u001b[0m\u001b[1mTokenizer (type)                                  \u001b[0m\u001b[1m \u001b[0m┃\u001b[1m \u001b[0m\u001b[1m                                            Vocab #\u001b[0m\u001b[1m \u001b[0m┃\n",
       "┡━━━━━━━━━━━━━━━━━━━━━━━━━━━━━━━━━━━━━━━━━━━━━━━━━━━━╇━━━━━━━━━━━━━━━━━━━━━━━━━━━━━━━━━━━━━━━━━━━━━━━━━━━━━┩\n",
       "│ gemma_tokenizer (\u001b[38;5;33mGemmaTokenizer\u001b[0m)                   │                                             \u001b[38;5;34m256,000\u001b[0m │\n",
       "└────────────────────────────────────────────────────┴─────────────────────────────────────────────────────┘\n"
      ]
     },
     "metadata": {},
     "output_type": "display_data"
    },
    {
     "data": {
      "text/html": [
       "<pre style=\"white-space:pre;overflow-x:auto;line-height:normal;font-family:Menlo,'DejaVu Sans Mono',consolas,'Courier New',monospace\"><span style=\"font-weight: bold\">Model: \"gemma_causal_lm\"</span>\n",
       "</pre>\n"
      ],
      "text/plain": [
       "\u001b[1mModel: \"gemma_causal_lm\"\u001b[0m\n"
      ]
     },
     "metadata": {},
     "output_type": "display_data"
    },
    {
     "data": {
      "text/html": [
       "<pre style=\"white-space:pre;overflow-x:auto;line-height:normal;font-family:Menlo,'DejaVu Sans Mono',consolas,'Courier New',monospace\">┏━━━━━━━━━━━━━━━━━━━━━━━━━━━━━━━┳━━━━━━━━━━━━━━━━━━━━━━━━━━━┳━━━━━━━━━━━━━━━━━┳━━━━━━━━━━━━━━━━━━━━━━━━━━━━┓\n",
       "┃<span style=\"font-weight: bold\"> Layer (type)                  </span>┃<span style=\"font-weight: bold\"> Output Shape              </span>┃<span style=\"font-weight: bold\">         Param # </span>┃<span style=\"font-weight: bold\"> Connected to               </span>┃\n",
       "┡━━━━━━━━━━━━━━━━━━━━━━━━━━━━━━━╇━━━━━━━━━━━━━━━━━━━━━━━━━━━╇━━━━━━━━━━━━━━━━━╇━━━━━━━━━━━━━━━━━━━━━━━━━━━━┩\n",
       "│ padding_mask (<span style=\"color: #0087ff; text-decoration-color: #0087ff\">InputLayer</span>)     │ (<span style=\"color: #00d7ff; text-decoration-color: #00d7ff\">None</span>, <span style=\"color: #00d7ff; text-decoration-color: #00d7ff\">None</span>)              │               <span style=\"color: #00af00; text-decoration-color: #00af00\">0</span> │ -                          │\n",
       "├───────────────────────────────┼───────────────────────────┼─────────────────┼────────────────────────────┤\n",
       "│ token_ids (<span style=\"color: #0087ff; text-decoration-color: #0087ff\">InputLayer</span>)        │ (<span style=\"color: #00d7ff; text-decoration-color: #00d7ff\">None</span>, <span style=\"color: #00d7ff; text-decoration-color: #00d7ff\">None</span>)              │               <span style=\"color: #00af00; text-decoration-color: #00af00\">0</span> │ -                          │\n",
       "├───────────────────────────────┼───────────────────────────┼─────────────────┼────────────────────────────┤\n",
       "│ gemma_backbone                │ (<span style=\"color: #00d7ff; text-decoration-color: #00d7ff\">None</span>, <span style=\"color: #00d7ff; text-decoration-color: #00d7ff\">None</span>, <span style=\"color: #00af00; text-decoration-color: #00af00\">4608</span>)        │  <span style=\"color: #00af00; text-decoration-color: #00af00\">27,227,128,320</span> │ padding_mask[<span style=\"color: #00af00; text-decoration-color: #00af00\">0</span>][<span style=\"color: #00af00; text-decoration-color: #00af00\">0</span>],        │\n",
       "│ (<span style=\"color: #0087ff; text-decoration-color: #0087ff\">GemmaBackbone</span>)               │                           │                 │ token_ids[<span style=\"color: #00af00; text-decoration-color: #00af00\">0</span>][<span style=\"color: #00af00; text-decoration-color: #00af00\">0</span>]            │\n",
       "├───────────────────────────────┼───────────────────────────┼─────────────────┼────────────────────────────┤\n",
       "│ token_embedding               │ (<span style=\"color: #00d7ff; text-decoration-color: #00d7ff\">None</span>, <span style=\"color: #00d7ff; text-decoration-color: #00d7ff\">None</span>, <span style=\"color: #00af00; text-decoration-color: #00af00\">256000</span>)      │   <span style=\"color: #00af00; text-decoration-color: #00af00\">1,179,648,000</span> │ gemma_backbone[<span style=\"color: #00af00; text-decoration-color: #00af00\">0</span>][<span style=\"color: #00af00; text-decoration-color: #00af00\">0</span>]       │\n",
       "│ (<span style=\"color: #0087ff; text-decoration-color: #0087ff\">ReversibleEmbedding</span>)         │                           │                 │                            │\n",
       "└───────────────────────────────┴───────────────────────────┴─────────────────┴────────────────────────────┘\n",
       "</pre>\n"
      ],
      "text/plain": [
       "┏━━━━━━━━━━━━━━━━━━━━━━━━━━━━━━━┳━━━━━━━━━━━━━━━━━━━━━━━━━━━┳━━━━━━━━━━━━━━━━━┳━━━━━━━━━━━━━━━━━━━━━━━━━━━━┓\n",
       "┃\u001b[1m \u001b[0m\u001b[1mLayer (type)                 \u001b[0m\u001b[1m \u001b[0m┃\u001b[1m \u001b[0m\u001b[1mOutput Shape             \u001b[0m\u001b[1m \u001b[0m┃\u001b[1m \u001b[0m\u001b[1m        Param #\u001b[0m\u001b[1m \u001b[0m┃\u001b[1m \u001b[0m\u001b[1mConnected to              \u001b[0m\u001b[1m \u001b[0m┃\n",
       "┡━━━━━━━━━━━━━━━━━━━━━━━━━━━━━━━╇━━━━━━━━━━━━━━━━━━━━━━━━━━━╇━━━━━━━━━━━━━━━━━╇━━━━━━━━━━━━━━━━━━━━━━━━━━━━┩\n",
       "│ padding_mask (\u001b[38;5;33mInputLayer\u001b[0m)     │ (\u001b[38;5;45mNone\u001b[0m, \u001b[38;5;45mNone\u001b[0m)              │               \u001b[38;5;34m0\u001b[0m │ -                          │\n",
       "├───────────────────────────────┼───────────────────────────┼─────────────────┼────────────────────────────┤\n",
       "│ token_ids (\u001b[38;5;33mInputLayer\u001b[0m)        │ (\u001b[38;5;45mNone\u001b[0m, \u001b[38;5;45mNone\u001b[0m)              │               \u001b[38;5;34m0\u001b[0m │ -                          │\n",
       "├───────────────────────────────┼───────────────────────────┼─────────────────┼────────────────────────────┤\n",
       "│ gemma_backbone                │ (\u001b[38;5;45mNone\u001b[0m, \u001b[38;5;45mNone\u001b[0m, \u001b[38;5;34m4608\u001b[0m)        │  \u001b[38;5;34m27,227,128,320\u001b[0m │ padding_mask[\u001b[38;5;34m0\u001b[0m][\u001b[38;5;34m0\u001b[0m],        │\n",
       "│ (\u001b[38;5;33mGemmaBackbone\u001b[0m)               │                           │                 │ token_ids[\u001b[38;5;34m0\u001b[0m][\u001b[38;5;34m0\u001b[0m]            │\n",
       "├───────────────────────────────┼───────────────────────────┼─────────────────┼────────────────────────────┤\n",
       "│ token_embedding               │ (\u001b[38;5;45mNone\u001b[0m, \u001b[38;5;45mNone\u001b[0m, \u001b[38;5;34m256000\u001b[0m)      │   \u001b[38;5;34m1,179,648,000\u001b[0m │ gemma_backbone[\u001b[38;5;34m0\u001b[0m][\u001b[38;5;34m0\u001b[0m]       │\n",
       "│ (\u001b[38;5;33mReversibleEmbedding\u001b[0m)         │                           │                 │                            │\n",
       "└───────────────────────────────┴───────────────────────────┴─────────────────┴────────────────────────────┘\n"
      ]
     },
     "metadata": {},
     "output_type": "display_data"
    },
    {
     "data": {
      "text/html": [
       "<pre style=\"white-space:pre;overflow-x:auto;line-height:normal;font-family:Menlo,'DejaVu Sans Mono',consolas,'Courier New',monospace\"><span style=\"font-weight: bold\"> Total params: </span><span style=\"color: #00af00; text-decoration-color: #00af00\">27,227,128,320</span> (50.71 GB)\n",
       "</pre>\n"
      ],
      "text/plain": [
       "\u001b[1m Total params: \u001b[0m\u001b[38;5;34m27,227,128,320\u001b[0m (50.71 GB)\n"
      ]
     },
     "metadata": {},
     "output_type": "display_data"
    },
    {
     "data": {
      "text/html": [
       "<pre style=\"white-space:pre;overflow-x:auto;line-height:normal;font-family:Menlo,'DejaVu Sans Mono',consolas,'Courier New',monospace\"><span style=\"font-weight: bold\"> Trainable params: </span><span style=\"color: #00af00; text-decoration-color: #00af00\">27,227,128,320</span> (50.71 GB)\n",
       "</pre>\n"
      ],
      "text/plain": [
       "\u001b[1m Trainable params: \u001b[0m\u001b[38;5;34m27,227,128,320\u001b[0m (50.71 GB)\n"
      ]
     },
     "metadata": {},
     "output_type": "display_data"
    },
    {
     "data": {
      "text/html": [
       "<pre style=\"white-space:pre;overflow-x:auto;line-height:normal;font-family:Menlo,'DejaVu Sans Mono',consolas,'Courier New',monospace\"><span style=\"font-weight: bold\"> Non-trainable params: </span><span style=\"color: #00af00; text-decoration-color: #00af00\">0</span> (0.00 B)\n",
       "</pre>\n"
      ],
      "text/plain": [
       "\u001b[1m Non-trainable params: \u001b[0m\u001b[38;5;34m0\u001b[0m (0.00 B)\n"
      ]
     },
     "metadata": {},
     "output_type": "display_data"
    }
   ],
   "source": [
    "gemma2_lm = keras_nlp.models.GemmaCausalLM.from_preset(\"gemma2_instruct_27b_en\")\n",
    "gemma2_lm.summary()"
   ]
  },
  {
   "cell_type": "code",
   "execution_count": 11,
   "id": "60686187",
   "metadata": {
    "execution": {
     "iopub.execute_input": "2024-09-01T03:35:55.776405Z",
     "iopub.status.busy": "2024-09-01T03:35:55.776152Z",
     "iopub.status.idle": "2024-09-01T03:35:55.824432Z",
     "shell.execute_reply": "2024-09-01T03:35:55.823591Z"
    },
    "papermill": {
     "duration": 0.056743,
     "end_time": "2024-09-01T03:35:55.826338",
     "exception": false,
     "start_time": "2024-09-01T03:35:55.769595",
     "status": "completed"
    },
    "tags": []
   },
   "outputs": [],
   "source": [
    "sampler = keras_nlp.samplers.RandomSampler()\n",
    "gemma2_lm.compile(sampler=sampler)"
   ]
  },
  {
   "cell_type": "code",
   "execution_count": 12,
   "id": "ce5528ee",
   "metadata": {
    "execution": {
     "iopub.execute_input": "2024-09-01T03:35:55.838517Z",
     "iopub.status.busy": "2024-09-01T03:35:55.838237Z",
     "iopub.status.idle": "2024-09-01T03:35:55.997229Z",
     "shell.execute_reply": "2024-09-01T03:35:55.996296Z"
    },
    "papermill": {
     "duration": 0.167327,
     "end_time": "2024-09-01T03:35:55.999211",
     "exception": false,
     "start_time": "2024-09-01T03:35:55.831884",
     "status": "completed"
    },
    "tags": []
   },
   "outputs": [],
   "source": [
    "import pandas as pd\n",
    "import random\n",
    "\n",
    "# Set the random seed for reproducibility\n",
    "random.seed(42)\n",
    "\n",
    "# Function to create a prompt with randomly ordered answers\n",
    "def create_prompt_with_random_answers(article, question, correct_answer, wrong_answer):\n",
    "    # Randomly decide whether to place the correct answer as 1 or 2\n",
    "    if random.choice([True, False]):\n",
    "        answer_1, answer_2 = correct_answer, wrong_answer\n",
    "        correct_answer_position = 1\n",
    "    else:\n",
    "        answer_1, answer_2 = wrong_answer, correct_answer\n",
    "        correct_answer_position = 2\n",
    "\n",
    "    # Create the prompt string\n",
    "    prompt = f\"\"\"<bos><start_of_turn>user\n",
    "This is a passage:\n",
    "---\n",
    "{article}\n",
    "---\n",
    "Please analyze the passage carefully and select the correct answer for the following question. Before choosing your answer, explain your reasoning step by step:\n",
    "---\n",
    "<question>{question}<\\question>\n",
    "---\n",
    "Answer options:\n",
    "Option A1A. <answer>{answer_1}<\\answer>\n",
    "Option A2A. <answer>{answer_2}<\\answer>\n",
    "---\n",
    "Write your reasoning step by step and THEN write your final answer.\n",
    "Indicate your response as \"The answer is A1A\" if you chose option 1 or \"The answer is A2A\" if you chose option 2 based on the option you believe is correct.\n",
    "\n",
    "Make sure to indicate your response as \"The answer is A1A\" or \"The answer is A2A\" in the correct format, otherwise it will be unreadable.<end_of_turn>\n",
    "<start_of_turn>model\"\"\"\n",
    "    \n",
    "    return prompt, correct_answer_position\n",
    "\n",
    "# Function to process a single CSV file and generate the prompts and correct answer positions\n",
    "def process_dataset(csv_file):\n",
    "    # Read the CSV file\n",
    "    df = pd.read_csv(csv_file)\n",
    "\n",
    "    # Lists to store the prompts and correct answer positions\n",
    "    prompts = []\n",
    "    correct_answer_positions = []\n",
    "\n",
    "    # Iterate through the dataset to create prompts and track correct answer positions\n",
    "    for _, row in df.iterrows():\n",
    "        article = row['article']\n",
    "        question = row['question']\n",
    "        correct_answer = row['correct_answer']\n",
    "        wrong_answer = row['wrong_answer']\n",
    "\n",
    "        prompt, correct_answer_position = create_prompt_with_random_answers(article, question, correct_answer, wrong_answer)\n",
    "        prompts.append(prompt)\n",
    "        correct_answer_positions.append(correct_answer_position)\n",
    "\n",
    "    return prompts, correct_answer_positions\n",
    "\n",
    "# Process the easy and hard development datasets separately\n",
    "prompts_easy, correct_answers_easy = process_dataset('/kaggle/input/quality-preprocessed/selected_data_easy_dev.csv')\n",
    "prompts_hard, correct_answers_hard = process_dataset('/kaggle/input/quality-preprocessed/selected_data_hard_dev.csv')\n",
    "\n",
    "# Example of how to print the results\n",
    "# for i, prompt in enumerate(prompts_easy[:3]):  # Print first 3 prompts as an example for easy\n",
    "#     print(f\"Easy Prompt {i+1}:\\n{prompt}\\nCorrect answer position: {correct_answers_easy[i]}\\n\")\n",
    "\n",
    "# for i, prompt in enumerate(prompts_hard[:3]):  # Print first 3 prompts as an example for hard\n",
    "#     print(f\"Hard Prompt {i+1}:\\n{prompt}\\nCorrect answer position: {correct_answers_hard[i]}\\n\")"
   ]
  },
  {
   "cell_type": "code",
   "execution_count": 13,
   "id": "a0fbd6cc",
   "metadata": {
    "execution": {
     "iopub.execute_input": "2024-09-01T03:35:56.011304Z",
     "iopub.status.busy": "2024-09-01T03:35:56.011054Z",
     "iopub.status.idle": "2024-09-01T03:35:56.015204Z",
     "shell.execute_reply": "2024-09-01T03:35:56.014549Z"
    },
    "papermill": {
     "duration": 0.012516,
     "end_time": "2024-09-01T03:35:56.016898",
     "exception": false,
     "start_time": "2024-09-01T03:35:56.004382",
     "status": "completed"
    },
    "tags": []
   },
   "outputs": [],
   "source": [
    "import re\n",
    "\n",
    "def extract_answer_number(generated_text):\n",
    "    # Find the part of the text after \"<start_of_turn>model\"\n",
    "    model_response = re.split(r'<start_of_turn>model', generated_text, maxsplit=1)[-1]\n",
    "\n",
    "    match = re.search(r'A(\\d)A', model_response[::-1])\n",
    "    #print(match)\n",
    "    if match:\n",
    "        return int(match.group(1))\n",
    "    else:\n",
    "        return None  # Return None if no answer is found"
   ]
  },
  {
   "cell_type": "code",
   "execution_count": 14,
   "id": "4d6ddf20",
   "metadata": {
    "execution": {
     "iopub.execute_input": "2024-09-01T03:35:56.028995Z",
     "iopub.status.busy": "2024-09-01T03:35:56.028536Z",
     "iopub.status.idle": "2024-09-01T03:36:55.888850Z",
     "shell.execute_reply": "2024-09-01T03:36:55.887982Z"
    },
    "papermill": {
     "duration": 59.874281,
     "end_time": "2024-09-01T03:36:55.896616",
     "exception": false,
     "start_time": "2024-09-01T03:35:56.022335",
     "status": "completed"
    },
    "tags": []
   },
   "outputs": [
    {
     "name": "stdout",
     "output_type": "stream",
     "text": [
      "Extracted answer number: 1\n"
     ]
    }
   ],
   "source": [
    "\n",
    "\n",
    "# Example usage\n",
    "generated_output = gemma2_lm.generate(prompts_easy[0])\n",
    "#print(generated_output)\n",
    "answer_number = extract_answer_number(generated_output)\n",
    "print(f\"Extracted answer number: {answer_number}\")"
   ]
  },
  {
   "cell_type": "code",
   "execution_count": 15,
   "id": "b04704c2",
   "metadata": {
    "execution": {
     "iopub.execute_input": "2024-09-01T03:36:55.909656Z",
     "iopub.status.busy": "2024-09-01T03:36:55.909367Z",
     "iopub.status.idle": "2024-09-01T03:38:18.014508Z",
     "shell.execute_reply": "2024-09-01T03:38:18.013578Z"
    },
    "papermill": {
     "duration": 82.114178,
     "end_time": "2024-09-01T03:38:18.016429",
     "exception": false,
     "start_time": "2024-09-01T03:36:55.902251",
     "status": "completed"
    },
    "tags": []
   },
   "outputs": [
    {
     "name": "stdout",
     "output_type": "stream",
     "text": [
      "1\n",
      "1\n",
      "2\n",
      "1\n"
     ]
    },
    {
     "name": "stdout",
     "output_type": "stream",
     "text": [
      "1\n"
     ]
    }
   ],
   "source": [
    "# Function to evaluate the model's performance on a given set of prompts\n",
    "def evaluate_model(prompts, correct_answers, dataset_name):\n",
    "    model_outputs = []\n",
    "    extracted_answers = []\n",
    "\n",
    "    # Generate outputs in parallel (in batches of 4)\n",
    "    for i in range(0, len(prompts), 4):\n",
    "        batch_prompts = prompts[i:i+4]\n",
    "        generated_outputs = gemma2_lm.generate(batch_prompts)\n",
    "        \n",
    "        for output in generated_outputs:\n",
    "            model_outputs.append(output)\n",
    "            extracted_answer = extract_answer_number(output)\n",
    "            extracted_answers.append(extracted_answer)\n",
    "            print(extracted_answer)\n",
    "\n",
    "    # Save results to CSV\n",
    "    results_df = pd.DataFrame({\n",
    "        'prompt': prompts,\n",
    "        'model_output': model_outputs,\n",
    "        'correct_answer': correct_answers,\n",
    "        'extracted_answer': extracted_answers\n",
    "    })\n",
    "    results_df.to_csv(f'{dataset_name}_evaluation_results.csv', index=False)\n",
    "\n",
    "# Test with the first 5 rows of the easy dataset\n",
    "evaluate_model(prompts_easy[:5], correct_answers_easy[:5], \"easy_dev_sample\")\n"
   ]
  },
  {
   "cell_type": "code",
   "execution_count": 16,
   "id": "1038afaf",
   "metadata": {
    "execution": {
     "iopub.execute_input": "2024-09-01T03:38:18.029754Z",
     "iopub.status.busy": "2024-09-01T03:38:18.028982Z",
     "iopub.status.idle": "2024-09-01T04:50:28.855043Z",
     "shell.execute_reply": "2024-09-01T04:50:28.853677Z"
    },
    "papermill": {
     "duration": 4330.83476,
     "end_time": "2024-09-01T04:50:28.857219",
     "exception": false,
     "start_time": "2024-09-01T03:38:18.022459",
     "status": "completed"
    },
    "tags": []
   },
   "outputs": [
    {
     "name": "stdout",
     "output_type": "stream",
     "text": [
      "1\n",
      "1\n",
      "2\n",
      "1\n"
     ]
    },
    {
     "name": "stdout",
     "output_type": "stream",
     "text": [
      "1\n",
      "1\n",
      "1\n",
      "1\n"
     ]
    },
    {
     "name": "stdout",
     "output_type": "stream",
     "text": [
      "2\n",
      "1\n",
      "1\n",
      "1\n"
     ]
    },
    {
     "name": "stdout",
     "output_type": "stream",
     "text": [
      "1\n",
      "1\n",
      "1\n",
      "1\n"
     ]
    },
    {
     "name": "stdout",
     "output_type": "stream",
     "text": [
      "2\n",
      "1\n",
      "2\n",
      "2\n"
     ]
    },
    {
     "name": "stdout",
     "output_type": "stream",
     "text": [
      "1\n",
      "1\n",
      "2\n",
      "2\n"
     ]
    },
    {
     "name": "stdout",
     "output_type": "stream",
     "text": [
      "2\n",
      "1\n",
      "1\n",
      "2\n"
     ]
    },
    {
     "name": "stdout",
     "output_type": "stream",
     "text": [
      "1\n",
      "1\n",
      "2\n",
      "1\n"
     ]
    },
    {
     "name": "stdout",
     "output_type": "stream",
     "text": [
      "2\n",
      "2\n",
      "2\n",
      "1\n"
     ]
    },
    {
     "name": "stdout",
     "output_type": "stream",
     "text": [
      "2\n",
      "1\n",
      "1\n",
      "2\n"
     ]
    },
    {
     "name": "stdout",
     "output_type": "stream",
     "text": [
      "2\n",
      "2\n",
      "1\n",
      "1\n"
     ]
    },
    {
     "name": "stdout",
     "output_type": "stream",
     "text": [
      "1\n",
      "1\n",
      "2\n",
      "1\n"
     ]
    },
    {
     "name": "stdout",
     "output_type": "stream",
     "text": [
      "1\n",
      "1\n",
      "2\n",
      "2\n"
     ]
    },
    {
     "name": "stdout",
     "output_type": "stream",
     "text": [
      "2\n",
      "2\n",
      "1\n",
      "2\n"
     ]
    },
    {
     "name": "stdout",
     "output_type": "stream",
     "text": [
      "2\n",
      "1\n",
      "2\n",
      "1\n"
     ]
    },
    {
     "name": "stdout",
     "output_type": "stream",
     "text": [
      "1\n",
      "1\n",
      "1\n",
      "2\n"
     ]
    },
    {
     "name": "stdout",
     "output_type": "stream",
     "text": [
      "2\n",
      "2\n",
      "1\n",
      "2\n"
     ]
    },
    {
     "name": "stdout",
     "output_type": "stream",
     "text": [
      "2\n",
      "1\n",
      "1\n",
      "2\n"
     ]
    },
    {
     "name": "stdout",
     "output_type": "stream",
     "text": [
      "2\n",
      "2\n",
      "1\n",
      "1\n"
     ]
    },
    {
     "name": "stdout",
     "output_type": "stream",
     "text": [
      "2\n",
      "1\n",
      "2\n",
      "2\n"
     ]
    },
    {
     "name": "stdout",
     "output_type": "stream",
     "text": [
      "2\n",
      "1\n",
      "2\n",
      "1\n"
     ]
    },
    {
     "name": "stdout",
     "output_type": "stream",
     "text": [
      "1\n",
      "2\n",
      "2\n",
      "2\n"
     ]
    },
    {
     "name": "stdout",
     "output_type": "stream",
     "text": [
      "2\n",
      "1\n",
      "1\n",
      "2\n"
     ]
    },
    {
     "name": "stdout",
     "output_type": "stream",
     "text": [
      "1\n",
      "1\n",
      "1\n",
      "1\n"
     ]
    },
    {
     "name": "stdout",
     "output_type": "stream",
     "text": [
      "1\n",
      "2\n",
      "1\n",
      "2\n"
     ]
    },
    {
     "name": "stdout",
     "output_type": "stream",
     "text": [
      "2\n",
      "2\n",
      "2\n",
      "1\n"
     ]
    },
    {
     "name": "stdout",
     "output_type": "stream",
     "text": [
      "1\n",
      "2\n",
      "2\n",
      "1\n"
     ]
    },
    {
     "name": "stdout",
     "output_type": "stream",
     "text": [
      "2\n",
      "2\n",
      "1\n",
      "2\n"
     ]
    },
    {
     "name": "stdout",
     "output_type": "stream",
     "text": [
      "1\n",
      "2\n",
      "1\n",
      "1\n"
     ]
    },
    {
     "name": "stdout",
     "output_type": "stream",
     "text": [
      "2\n",
      "2\n",
      "1\n",
      "2\n"
     ]
    },
    {
     "name": "stdout",
     "output_type": "stream",
     "text": [
      "1\n",
      "1\n",
      "2\n",
      "2\n"
     ]
    },
    {
     "name": "stdout",
     "output_type": "stream",
     "text": [
      "1\n",
      "1\n",
      "2\n",
      "2\n"
     ]
    },
    {
     "name": "stdout",
     "output_type": "stream",
     "text": [
      "1\n",
      "1\n",
      "1\n",
      "1\n"
     ]
    },
    {
     "name": "stdout",
     "output_type": "stream",
     "text": [
      "1\n",
      "2\n",
      "1\n",
      "1\n"
     ]
    },
    {
     "name": "stdout",
     "output_type": "stream",
     "text": [
      "1\n",
      "2\n",
      "1\n",
      "2\n"
     ]
    },
    {
     "name": "stdout",
     "output_type": "stream",
     "text": [
      "2\n",
      "2\n",
      "1\n",
      "2\n"
     ]
    },
    {
     "name": "stdout",
     "output_type": "stream",
     "text": [
      "1\n",
      "2\n",
      "2\n",
      "2\n"
     ]
    },
    {
     "name": "stdout",
     "output_type": "stream",
     "text": [
      "1\n",
      "1\n",
      "1\n",
      "1\n"
     ]
    },
    {
     "name": "stdout",
     "output_type": "stream",
     "text": [
      "2\n",
      "1\n",
      "1\n",
      "1\n"
     ]
    },
    {
     "name": "stdout",
     "output_type": "stream",
     "text": [
      "1\n",
      "1\n",
      "1\n",
      "1\n"
     ]
    },
    {
     "name": "stdout",
     "output_type": "stream",
     "text": [
      "1\n",
      "1\n",
      "2\n",
      "1\n"
     ]
    },
    {
     "name": "stdout",
     "output_type": "stream",
     "text": [
      "1\n",
      "1\n",
      "1\n",
      "1\n"
     ]
    },
    {
     "name": "stdout",
     "output_type": "stream",
     "text": [
      "1\n",
      "2\n",
      "1\n",
      "2\n"
     ]
    },
    {
     "name": "stdout",
     "output_type": "stream",
     "text": [
      "2\n",
      "1\n",
      "1\n",
      "1\n"
     ]
    },
    {
     "name": "stdout",
     "output_type": "stream",
     "text": [
      "2\n",
      "2\n",
      "2\n",
      "2\n"
     ]
    },
    {
     "name": "stdout",
     "output_type": "stream",
     "text": [
      "2\n",
      "1\n",
      "1\n",
      "1\n"
     ]
    },
    {
     "name": "stdout",
     "output_type": "stream",
     "text": [
      "2\n",
      "2\n",
      "1\n",
      "1\n"
     ]
    },
    {
     "name": "stdout",
     "output_type": "stream",
     "text": [
      "1\n",
      "1\n",
      "2\n",
      "1\n"
     ]
    },
    {
     "name": "stdout",
     "output_type": "stream",
     "text": [
      "1\n",
      "1\n",
      "2\n",
      "2\n"
     ]
    },
    {
     "name": "stdout",
     "output_type": "stream",
     "text": [
      "1\n",
      "1\n",
      "2\n",
      "1\n"
     ]
    },
    {
     "name": "stdout",
     "output_type": "stream",
     "text": [
      "1\n",
      "1\n",
      "1\n",
      "2\n"
     ]
    },
    {
     "name": "stdout",
     "output_type": "stream",
     "text": [
      "1\n",
      "1\n",
      "2\n",
      "2\n"
     ]
    },
    {
     "name": "stdout",
     "output_type": "stream",
     "text": [
      "1\n",
      "2\n",
      "1\n",
      "1\n"
     ]
    },
    {
     "name": "stdout",
     "output_type": "stream",
     "text": [
      "2\n",
      "1\n",
      "2\n",
      "2\n"
     ]
    },
    {
     "name": "stdout",
     "output_type": "stream",
     "text": [
      "1\n",
      "2\n",
      "2\n",
      "2\n"
     ]
    },
    {
     "name": "stdout",
     "output_type": "stream",
     "text": [
      "1\n",
      "1\n",
      "2\n",
      "1\n"
     ]
    },
    {
     "name": "stdout",
     "output_type": "stream",
     "text": [
      "1\n",
      "1\n",
      "2\n",
      "1\n"
     ]
    },
    {
     "name": "stdout",
     "output_type": "stream",
     "text": [
      "1\n",
      "2\n",
      "1\n",
      "1\n"
     ]
    },
    {
     "name": "stdout",
     "output_type": "stream",
     "text": [
      "1\n",
      "1\n",
      "2\n",
      "1\n"
     ]
    },
    {
     "name": "stdout",
     "output_type": "stream",
     "text": [
      "1\n",
      "2\n",
      "1\n",
      "1\n"
     ]
    },
    {
     "name": "stdout",
     "output_type": "stream",
     "text": [
      "1\n",
      "1\n",
      "2\n",
      "2\n"
     ]
    },
    {
     "name": "stdout",
     "output_type": "stream",
     "text": [
      "2\n",
      "1\n",
      "2\n",
      "1\n"
     ]
    },
    {
     "name": "stdout",
     "output_type": "stream",
     "text": [
      "2\n",
      "2\n",
      "1\n",
      "2\n"
     ]
    },
    {
     "name": "stdout",
     "output_type": "stream",
     "text": [
      "2\n",
      "2\n",
      "1\n",
      "1\n"
     ]
    },
    {
     "name": "stdout",
     "output_type": "stream",
     "text": [
      "2\n",
      "1\n",
      "1\n",
      "1\n"
     ]
    },
    {
     "name": "stdout",
     "output_type": "stream",
     "text": [
      "2\n",
      "1\n",
      "2\n",
      "2\n"
     ]
    },
    {
     "name": "stdout",
     "output_type": "stream",
     "text": [
      "1\n",
      "2\n",
      "2\n",
      "1\n"
     ]
    },
    {
     "name": "stdout",
     "output_type": "stream",
     "text": [
      "2\n",
      "2\n",
      "1\n",
      "2\n"
     ]
    },
    {
     "name": "stdout",
     "output_type": "stream",
     "text": [
      "1\n",
      "1\n",
      "2\n",
      "1\n"
     ]
    },
    {
     "name": "stdout",
     "output_type": "stream",
     "text": [
      "1\n",
      "1\n",
      "2\n",
      "2\n"
     ]
    },
    {
     "name": "stdout",
     "output_type": "stream",
     "text": [
      "1\n",
      "2\n",
      "1\n",
      "2\n"
     ]
    },
    {
     "name": "stdout",
     "output_type": "stream",
     "text": [
      "2\n",
      "2\n",
      "1\n",
      "1\n"
     ]
    },
    {
     "name": "stdout",
     "output_type": "stream",
     "text": [
      "2\n",
      "2\n",
      "1\n",
      "2\n"
     ]
    },
    {
     "name": "stdout",
     "output_type": "stream",
     "text": [
      "2\n",
      "1\n",
      "2\n",
      "1\n"
     ]
    },
    {
     "name": "stdout",
     "output_type": "stream",
     "text": [
      "1\n",
      "2\n",
      "1\n",
      "1\n"
     ]
    },
    {
     "name": "stdout",
     "output_type": "stream",
     "text": [
      "1\n",
      "2\n",
      "1\n",
      "1\n"
     ]
    },
    {
     "name": "stdout",
     "output_type": "stream",
     "text": [
      "1\n",
      "2\n",
      "1\n",
      "1\n"
     ]
    },
    {
     "name": "stdout",
     "output_type": "stream",
     "text": [
      "2\n",
      "2\n",
      "1\n",
      "2\n"
     ]
    },
    {
     "name": "stdout",
     "output_type": "stream",
     "text": [
      "1\n",
      "1\n",
      "1\n",
      "2\n"
     ]
    },
    {
     "name": "stdout",
     "output_type": "stream",
     "text": [
      "2\n",
      "1\n",
      "2\n",
      "2\n"
     ]
    },
    {
     "name": "stdout",
     "output_type": "stream",
     "text": [
      "1\n",
      "2\n"
     ]
    },
    {
     "name": "stdout",
     "output_type": "stream",
     "text": [
      "1\n",
      "1\n",
      "2\n",
      "2\n"
     ]
    },
    {
     "name": "stdout",
     "output_type": "stream",
     "text": [
      "2\n",
      "2\n",
      "1\n",
      "1\n"
     ]
    },
    {
     "name": "stdout",
     "output_type": "stream",
     "text": [
      "2\n",
      "1\n",
      "2\n",
      "1\n"
     ]
    },
    {
     "name": "stdout",
     "output_type": "stream",
     "text": [
      "1\n",
      "2\n",
      "2\n",
      "2\n"
     ]
    },
    {
     "name": "stdout",
     "output_type": "stream",
     "text": [
      "1\n",
      "1\n",
      "1\n",
      "1\n"
     ]
    },
    {
     "name": "stdout",
     "output_type": "stream",
     "text": [
      "2\n",
      "2\n",
      "2\n",
      "1\n"
     ]
    },
    {
     "name": "stdout",
     "output_type": "stream",
     "text": [
      "2\n",
      "2\n",
      "2\n",
      "2\n"
     ]
    },
    {
     "name": "stdout",
     "output_type": "stream",
     "text": [
      "1\n",
      "1\n",
      "2\n",
      "1\n"
     ]
    },
    {
     "name": "stdout",
     "output_type": "stream",
     "text": [
      "2\n",
      "1\n",
      "2\n",
      "2\n"
     ]
    },
    {
     "name": "stdout",
     "output_type": "stream",
     "text": [
      "2\n",
      "None\n",
      "2\n",
      "1\n"
     ]
    },
    {
     "name": "stdout",
     "output_type": "stream",
     "text": [
      "2\n",
      "1\n",
      "2\n",
      "1\n"
     ]
    },
    {
     "name": "stdout",
     "output_type": "stream",
     "text": [
      "2\n",
      "1\n",
      "1\n",
      "2\n"
     ]
    },
    {
     "name": "stdout",
     "output_type": "stream",
     "text": [
      "2\n",
      "1\n",
      "2\n",
      "2\n"
     ]
    },
    {
     "name": "stdout",
     "output_type": "stream",
     "text": [
      "1\n",
      "2\n",
      "2\n",
      "2\n"
     ]
    },
    {
     "name": "stdout",
     "output_type": "stream",
     "text": [
      "2\n",
      "1\n",
      "1\n",
      "1\n"
     ]
    },
    {
     "name": "stdout",
     "output_type": "stream",
     "text": [
      "1\n",
      "2\n",
      "2\n",
      "1\n"
     ]
    },
    {
     "name": "stdout",
     "output_type": "stream",
     "text": [
      "2\n",
      "2\n",
      "1\n",
      "2\n"
     ]
    },
    {
     "name": "stdout",
     "output_type": "stream",
     "text": [
      "2\n",
      "1\n",
      "2\n",
      "2\n"
     ]
    },
    {
     "name": "stdout",
     "output_type": "stream",
     "text": [
      "2\n",
      "2\n",
      "2\n",
      "1\n"
     ]
    },
    {
     "name": "stdout",
     "output_type": "stream",
     "text": [
      "2\n",
      "1\n",
      "1\n",
      "2\n"
     ]
    },
    {
     "name": "stdout",
     "output_type": "stream",
     "text": [
      "2\n",
      "1\n",
      "1\n",
      "2\n"
     ]
    },
    {
     "name": "stdout",
     "output_type": "stream",
     "text": [
      "1\n",
      "1\n",
      "1\n",
      "1\n"
     ]
    },
    {
     "name": "stdout",
     "output_type": "stream",
     "text": [
      "2\n",
      "1\n",
      "2\n",
      "1\n"
     ]
    },
    {
     "name": "stdout",
     "output_type": "stream",
     "text": [
      "2\n",
      "2\n",
      "2\n",
      "2\n"
     ]
    },
    {
     "name": "stdout",
     "output_type": "stream",
     "text": [
      "2\n",
      "2\n",
      "1\n",
      "1\n"
     ]
    },
    {
     "name": "stdout",
     "output_type": "stream",
     "text": [
      "1\n",
      "1\n",
      "2\n",
      "1\n"
     ]
    },
    {
     "name": "stdout",
     "output_type": "stream",
     "text": [
      "1\n",
      "2\n",
      "1\n",
      "1\n"
     ]
    },
    {
     "name": "stdout",
     "output_type": "stream",
     "text": [
      "1\n",
      "2\n",
      "1\n",
      "2\n"
     ]
    },
    {
     "name": "stdout",
     "output_type": "stream",
     "text": [
      "1\n",
      "1\n",
      "2\n",
      "2\n"
     ]
    },
    {
     "name": "stdout",
     "output_type": "stream",
     "text": [
      "1\n",
      "2\n",
      "2\n",
      "1\n"
     ]
    },
    {
     "name": "stdout",
     "output_type": "stream",
     "text": [
      "1\n",
      "2\n",
      "2\n",
      "1\n"
     ]
    },
    {
     "name": "stdout",
     "output_type": "stream",
     "text": [
      "2\n",
      "2\n",
      "1\n",
      "2\n"
     ]
    },
    {
     "name": "stdout",
     "output_type": "stream",
     "text": [
      "1\n",
      "2\n",
      "2\n",
      "2\n"
     ]
    },
    {
     "name": "stdout",
     "output_type": "stream",
     "text": [
      "1\n",
      "1\n",
      "1\n",
      "1\n"
     ]
    },
    {
     "name": "stdout",
     "output_type": "stream",
     "text": [
      "2\n",
      "1\n",
      "1\n",
      "1\n"
     ]
    },
    {
     "name": "stdout",
     "output_type": "stream",
     "text": [
      "2\n",
      "2\n",
      "2\n",
      "2\n"
     ]
    },
    {
     "name": "stdout",
     "output_type": "stream",
     "text": [
      "2\n",
      "1\n",
      "1\n",
      "2\n"
     ]
    },
    {
     "name": "stdout",
     "output_type": "stream",
     "text": [
      "2\n",
      "1\n",
      "2\n",
      "2\n"
     ]
    },
    {
     "name": "stdout",
     "output_type": "stream",
     "text": [
      "1\n",
      "1\n",
      "2\n",
      "2\n"
     ]
    },
    {
     "name": "stdout",
     "output_type": "stream",
     "text": [
      "2\n",
      "2\n",
      "2\n",
      "1\n"
     ]
    },
    {
     "name": "stdout",
     "output_type": "stream",
     "text": [
      "2\n",
      "2\n",
      "2\n",
      "1\n"
     ]
    },
    {
     "name": "stdout",
     "output_type": "stream",
     "text": [
      "2\n",
      "2\n",
      "2\n",
      "1\n"
     ]
    },
    {
     "name": "stdout",
     "output_type": "stream",
     "text": [
      "2\n",
      "1\n",
      "1\n",
      "2\n"
     ]
    },
    {
     "name": "stdout",
     "output_type": "stream",
     "text": [
      "1\n",
      "2\n",
      "2\n",
      "1\n"
     ]
    },
    {
     "name": "stdout",
     "output_type": "stream",
     "text": [
      "2\n"
     ]
    }
   ],
   "source": [
    "# Evaluate on the full datasets\n",
    "evaluate_model(prompts_easy, correct_answers_easy, \"easy_dev_full\")\n",
    "evaluate_model(prompts_hard, correct_answers_hard, \"hard_dev_full\")"
   ]
  }
 ],
 "metadata": {
  "accelerator": "TPU",
  "colab": {
   "gpuType": "V28",
   "machine_shape": "hm",
   "provenance": []
  },
  "kaggle": {
   "accelerator": "tpu1vmV38",
   "dataSources": [
    {
     "databundleVersionId": 9484092,
     "datasetId": 5624423,
     "sourceId": 9291447,
     "sourceType": "datasetVersion"
    },
    {
     "databundleVersionId": 9203023,
     "modelInstanceId": 57466,
     "sourceId": 82368,
     "sourceType": "modelInstanceVersion"
    },
    {
     "databundleVersionId": 8942058,
     "modelInstanceId": 57806,
     "sourceId": 69289,
     "sourceType": "modelInstanceVersion"
    }
   ],
   "isGpuEnabled": false,
   "isInternetEnabled": true,
   "language": "python",
   "sourceType": "notebook"
  },
  "kernelspec": {
   "display_name": "Python 3",
   "language": "python",
   "name": "python3"
  },
  "language_info": {
   "codemirror_mode": {
    "name": "ipython",
    "version": 3
   },
   "file_extension": ".py",
   "mimetype": "text/x-python",
   "name": "python",
   "nbconvert_exporter": "python",
   "pygments_lexer": "ipython3",
   "version": "3.10.14"
  },
  "papermill": {
   "default_parameters": {},
   "duration": 4952.029929,
   "end_time": "2024-09-01T04:50:36.725129",
   "environment_variables": {},
   "exception": null,
   "input_path": "__notebook__.ipynb",
   "output_path": "__notebook__.ipynb",
   "parameters": {},
   "start_time": "2024-09-01T03:28:04.695200",
   "version": "2.6.0"
  }
 },
 "nbformat": 4,
 "nbformat_minor": 5
}
